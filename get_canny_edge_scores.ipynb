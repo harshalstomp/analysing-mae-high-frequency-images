{
 "cells": [
  {
   "cell_type": "code",
   "execution_count": 2,
   "id": "a810b57a",
   "metadata": {},
   "outputs": [],
   "source": [
    "import os\n",
    "dir_list = os.listdir(\"dataset/\")"
   ]
  },
  {
   "cell_type": "code",
   "execution_count": 3,
   "id": "09955cec",
   "metadata": {},
   "outputs": [
    {
     "data": {
      "text/plain": [
       "50000"
      ]
     },
     "execution_count": 3,
     "metadata": {},
     "output_type": "execute_result"
    }
   ],
   "source": [
    "len(dir_list)"
   ]
  },
  {
   "cell_type": "code",
   "execution_count": 1,
   "id": "f6911e43",
   "metadata": {},
   "outputs": [],
   "source": [
    "import cv2"
   ]
  },
  {
   "cell_type": "code",
   "execution_count": 5,
   "id": "63221572",
   "metadata": {},
   "outputs": [],
   "source": [
    "def get_edge_count(image):\n",
    "    image = cv2.imread(image)\n",
    "    image = cv2.resize(image, (224,224), interpolation = cv2.INTER_AREA)\n",
    "    gray = cv2.cvtColor(image, cv2.COLOR_BGR2GRAY)\n",
    "    blurred = cv2.GaussianBlur(gray, (3, 3), 0)\n",
    "    edges = cv2.Canny(blurred, 100, 200)\n",
    "    num_edges = cv2.countNonZero(edges)\n",
    "    return num_edges"
   ]
  },
  {
   "cell_type": "code",
   "execution_count": 8,
   "id": "058db4f3",
   "metadata": {},
   "outputs": [],
   "source": [
    "edgescore_list = []\n",
    "for image in dir_list:\n",
    "    edgescore_list.append({\"name\":image, \"score\": get_edge_count(f\"dataset/{image}\")})\n",
    "    "
   ]
  },
  {
   "cell_type": "code",
   "execution_count": 11,
   "id": "4d05938d",
   "metadata": {},
   "outputs": [],
   "source": [
    "len(edgescore_list)\n",
    "edgescore_list[0]\n",
    "sorted_edgescore = sorted(edgescore_list, key=lambda d: d['score']) "
   ]
  },
  {
   "cell_type": "code",
   "execution_count": 12,
   "id": "06c3da5a",
   "metadata": {},
   "outputs": [
    {
     "data": {
      "text/plain": [
       "{'name': 'ILSVRC2012_val_00025936.JPEG', 'score': 0}"
      ]
     },
     "execution_count": 12,
     "metadata": {},
     "output_type": "execute_result"
    }
   ],
   "source": [
    "sorted_edgescore[0]"
   ]
  },
  {
   "cell_type": "code",
   "execution_count": 19,
   "id": "1caf0589",
   "metadata": {},
   "outputs": [
    {
     "data": {
      "text/plain": [
       "{'name': 'ILSVRC2012_val_00026112.JPEG', 'score': 15681}"
      ]
     },
     "execution_count": 19,
     "metadata": {},
     "output_type": "execute_result"
    }
   ],
   "source": [
    "sorted_edgescore[-24]"
   ]
  },
  {
   "cell_type": "code",
   "execution_count": null,
   "id": "fc5ab26b",
   "metadata": {},
   "outputs": [],
   "source": []
  }
 ],
 "metadata": {
  "kernelspec": {
   "display_name": "local-venv-kernel",
   "language": "python",
   "name": "local-venv-kernel"
  },
  "language_info": {
   "codemirror_mode": {
    "name": "ipython",
    "version": 3
   },
   "file_extension": ".py",
   "mimetype": "text/x-python",
   "name": "python",
   "nbconvert_exporter": "python",
   "pygments_lexer": "ipython3",
   "version": "3.9.13"
  }
 },
 "nbformat": 4,
 "nbformat_minor": 5
}
